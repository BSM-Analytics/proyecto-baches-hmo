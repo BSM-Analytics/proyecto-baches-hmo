{
  "nbformat": 4,
  "nbformat_minor": 0,
  "metadata": {
    "colab": {
      "provenance": []
    },
    "kernelspec": {
      "name": "python3",
      "display_name": "Python 3"
    },
    "language_info": {
      "name": "python"
    }
  },
  "cells": [
    {
      "cell_type": "code",
      "execution_count": 1,
      "metadata": {
        "id": "q8ClZJVsWRd5"
      },
      "outputs": [],
      "source": [
        "import requests"
      ]
    },
    {
      "cell_type": "code",
      "source": [
        "url = \"https://bachometro.hermosillo.gob.mx/mapa/ajax\" # Endpoint encontrado monitoreando el trafico en el sitio web del Bachometro Hermosillo"
      ],
      "metadata": {
        "id": "llyTK_xUWYi1"
      },
      "execution_count": 2,
      "outputs": []
    },
    {
      "cell_type": "code",
      "source": [
        "\"\"\"\n",
        "\n",
        "Headers & Cookies - Not required to get the report list response, preserved in case any further requests are generated.\n",
        "\n",
        "headers = {\"Content-type\": \"application/x-www-form-urlencoded; charset=UTF-8\"}\n",
        "\n",
        "cookies = {\n",
        "    \"_ga\":\"GA1.1.1370474852.1726703474\",\n",
        "    \"_ga_RG96QB4ZX1\":\"GS1.1.1726703473.1.1.1726704805.0.0.0\",\n",
        "    \"XSRF-TOKEN\":\"eyJpdiI6Ikg2VlNhaUR3a3EraEdxQm1qNVJneWc9PSIsInZhbHVlIjoiRHNvRjZVK0dDT3kyU01lV2xQN3JFb0RWNTA2TkdFTnMrOGlyaUJ5eE9VYjg2Y1pjdVcrR3pSZjJlcHRzRVNjZllGRC9zeHhwQWtnclA1UXFITU1BaFl2VTVFWVY2SjJ2QXNnVUhQT1ZqV0czMy9TaFhkKytTUFpwc1VwQm16ekciLCJtYWMiOiJjNWMyMjkzYWE5MWQ5NGE0NWZiYTE2M2FhNzJhZGY2ZGUzNTc5NDEyMDgyOGU3NjQwODYzNmMyYWQ1NDU2OTkyIiwidGFnIjoiIn0%3D\",\n",
        "    \"bachometro_hermosillo_session\":\"eyJpdiI6IlZzalhhbEJ5ZTY2RWFQRjVnUmx4N0E9PSIsInZhbHVlIjoiNy9EcUVhMXRYYUs0NmdZS0F0Rzl0amxFK2p3RlVaWm81b2l1blNINXJWYzdaLytaVzNibTRBcy9IWE10NjVwTW5hV1lJZzJPVjlRdDcxOVpXdmFad1Z2S2VJcEhDMUhlcjQ0bEZmS255LzI2Ujc0bFNoS3VyVGhaSDFOeUxjbXgiLCJtYWMiOiI2YTZiZDgzOWFkYzU0Njc2MDg4NmVjNWJiMmJjY2MxMDc3NWQwZTFlYWU5NGVkNjA1MzI3NmE5OGE4ZDgxZGFkIiwidGFnIjoiIn0%3D\"\n",
        "}\n",
        "\n",
        "\"\"\"\n",
        "\n",
        "# Ignorar esta celda por el momento. Se deja info en caso de necesitarse despues para solicitudes mas especificas a la API."
      ],
      "metadata": {
        "colab": {
          "base_uri": "https://localhost:8080/",
          "height": 122
        },
        "id": "mzX53dzkWgux",
        "outputId": "72ee4b11-bc41-437b-d4d8-e961ea2d43ed"
      },
      "execution_count": 3,
      "outputs": [
        {
          "output_type": "execute_result",
          "data": {
            "text/plain": [
              "'\\n\\nHeaders & Cookies - Not required to get the report list response, preserved in case any further requests are generated.\\n\\nheaders = {\"Content-type\": \"application/x-www-form-urlencoded; charset=UTF-8\"}\\n\\ncookies = {\\n    \"_ga\":\"GA1.1.1370474852.1726703474\",\\n    \"_ga_RG96QB4ZX1\":\"GS1.1.1726703473.1.1.1726704805.0.0.0\",\\n    \"XSRF-TOKEN\":\"eyJpdiI6Ikg2VlNhaUR3a3EraEdxQm1qNVJneWc9PSIsInZhbHVlIjoiRHNvRjZVK0dDT3kyU01lV2xQN3JFb0RWNTA2TkdFTnMrOGlyaUJ5eE9VYjg2Y1pjdVcrR3pSZjJlcHRzRVNjZllGRC9zeHhwQWtnclA1UXFITU1BaFl2VTVFWVY2SjJ2QXNnVUhQT1ZqV0czMy9TaFhkKytTUFpwc1VwQm16ekciLCJtYWMiOiJjNWMyMjkzYWE5MWQ5NGE0NWZiYTE2M2FhNzJhZGY2ZGUzNTc5NDEyMDgyOGU3NjQwODYzNmMyYWQ1NDU2OTkyIiwidGFnIjoiIn0%3D\",\\n    \"bachometro_hermosillo_session\":\"eyJpdiI6IlZzalhhbEJ5ZTY2RWFQRjVnUmx4N0E9PSIsInZhbHVlIjoiNy9EcUVhMXRYYUs0NmdZS0F0Rzl0amxFK2p3RlVaWm81b2l1blNINXJWYzdaLytaVzNibTRBcy9IWE10NjVwTW5hV1lJZzJPVjlRdDcxOVpXdmFad1Z2S2VJcEhDMUhlcjQ0bEZmS255LzI2Ujc0bFNoS3VyVGhaSDFOeUxjbXgiLCJtYWMiOiI2YTZiZDgzOWFkYzU0Njc2MDg4NmVjNWJiMmJjY2MxMDc3NWQwZTFlYWU5NGVkNjA1MzI3NmE5OGE4ZDgxZGFkIiwidGFnIjoiIn0%3D\"\\n}\\n\\n'"
            ],
            "application/vnd.google.colaboratory.intrinsic+json": {
              "type": "string"
            }
          },
          "metadata": {},
          "execution_count": 3
        }
      ]
    },
    {
      "cell_type": "code",
      "source": [
        "response = requests.get(url) # Enviamos una solicitud HTTP tipo GET hacia el API endpoint\n",
        "response_list = list(response.json()) # El resultado viene contenido entre corchetes, lo extraemos con el metodo JSON y transformamos en lista de Python\n",
        "report_qty = len(response_list) # Contamos la cantidad de elementos (reportes) que la lista contiene"
      ],
      "metadata": {
        "id": "Vb37HqUuWisl"
      },
      "execution_count": 4,
      "outputs": []
    },
    {
      "cell_type": "code",
      "source": [
        "print(f\"Request returned with code {response.status_code}: {response.reason}\")\n",
        "print(f\"The report list response returned by the API endpoint contains {report_qty} entries.\")\n",
        "print(f\"Here is the first report's data for demonstration: {response_list[0]}\")\n",
        "\n",
        "# TODO: El siguiente paso logico es transformar este listado de reportes en una estructura de datos mas adecuada (DataFrame)\n",
        "# Algo interesante es que el mayor numero de ID de reporte supera a la cantidad de reportes, lo que indica que talvez algunos reportes han sido descartados"
      ],
      "metadata": {
        "colab": {
          "base_uri": "https://localhost:8080/"
        },
        "id": "0UtQm6DCWkVP",
        "outputId": "52605ecd-b878-4ba4-ddc0-db8d0ba24928"
      },
      "execution_count": 5,
      "outputs": [
        {
          "output_type": "stream",
          "name": "stdout",
          "text": [
            "Request returned with code 200: OK\n",
            "The report list response returned by the API endpoint contains 18042 entries.\n",
            "Here is the first report's data for demonstration: {'latitude': '29.09416060', 'longitude': '-110.96947080', 'date': '2021-10-18', 'neighborhoods': [551], 'material': 1, 'description': 'Hay un bache en la calle, y los carros se golpean y puede ocasionar un accidente, por favor quiero que lo arreglen.', 'id': 1}\n"
          ]
        }
      ]
    }
  ]
}