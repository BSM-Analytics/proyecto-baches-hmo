{
  "cells": [
    {
      "cell_type": "code",
      "execution_count": 1,
      "metadata": {
        "id": "q8ClZJVsWRd5"
      },
      "outputs": [],
      "source": [
        "import requests\n",
        "import pandas as pd"
      ]
    },
    {
      "cell_type": "code",
      "execution_count": 5,
      "metadata": {
        "id": "llyTK_xUWYi1"
      },
      "outputs": [],
      "source": [
        "url = \"https://bachometro.hermosillo.gob.mx/mapa/ajax\" # Endpoint encontrado monitoreando el trafico en el sitio web del Bachometro Hermosillo"
      ]
    },
    {
      "cell_type": "code",
      "execution_count": 6,
      "metadata": {
        "colab": {
          "base_uri": "https://localhost:8080/",
          "height": 122
        },
        "id": "mzX53dzkWgux",
        "outputId": "72ee4b11-bc41-437b-d4d8-e961ea2d43ed"
      },
      "outputs": [
        {
          "data": {
            "text/plain": [
              "'\\n\\nHeaders & Cookies - Not required to get the report list response, preserved in case any further requests are generated.\\n\\nheaders = {\"Content-type\": \"application/x-www-form-urlencoded; charset=UTF-8\"}\\n\\ncookies = {\\n    \"_ga\":\"GA1.1.1370474852.1726703474\",\\n    \"_ga_RG96QB4ZX1\":\"GS1.1.1726703473.1.1.1726704805.0.0.0\",\\n    \"XSRF-TOKEN\":\"eyJpdiI6Ikg2VlNhaUR3a3EraEdxQm1qNVJneWc9PSIsInZhbHVlIjoiRHNvRjZVK0dDT3kyU01lV2xQN3JFb0RWNTA2TkdFTnMrOGlyaUJ5eE9VYjg2Y1pjdVcrR3pSZjJlcHRzRVNjZllGRC9zeHhwQWtnclA1UXFITU1BaFl2VTVFWVY2SjJ2QXNnVUhQT1ZqV0czMy9TaFhkKytTUFpwc1VwQm16ekciLCJtYWMiOiJjNWMyMjkzYWE5MWQ5NGE0NWZiYTE2M2FhNzJhZGY2ZGUzNTc5NDEyMDgyOGU3NjQwODYzNmMyYWQ1NDU2OTkyIiwidGFnIjoiIn0%3D\",\\n    \"bachometro_hermosillo_session\":\"eyJpdiI6IlZzalhhbEJ5ZTY2RWFQRjVnUmx4N0E9PSIsInZhbHVlIjoiNy9EcUVhMXRYYUs0NmdZS0F0Rzl0amxFK2p3RlVaWm81b2l1blNINXJWYzdaLytaVzNibTRBcy9IWE10NjVwTW5hV1lJZzJPVjlRdDcxOVpXdmFad1Z2S2VJcEhDMUhlcjQ0bEZmS255LzI2Ujc0bFNoS3VyVGhaSDFOeUxjbXgiLCJtYWMiOiI2YTZiZDgzOWFkYzU0Njc2MDg4NmVjNWJiMmJjY2MxMDc3NWQwZTFlYWU5NGVkNjA1MzI3NmE5OGE4ZDgxZGFkIiwidGFnIjoiIn0%3D\"\\n}\\n\\n'"
            ]
          },
          "execution_count": 6,
          "metadata": {},
          "output_type": "execute_result"
        }
      ],
      "source": [
        "\"\"\"\n",
        "\n",
        "Headers & Cookies - Not required to get the report list response, preserved in case any further requests are generated.\n",
        "\n",
        "headers = {\"Content-type\": \"application/x-www-form-urlencoded; charset=UTF-8\"}\n",
        "\n",
        "cookies = {\n",
        "    \"_ga\":\"GA1.1.1370474852.1726703474\",\n",
        "    \"_ga_RG96QB4ZX1\":\"GS1.1.1726703473.1.1.1726704805.0.0.0\",\n",
        "    \"XSRF-TOKEN\":\"eyJpdiI6Ikg2VlNhaUR3a3EraEdxQm1qNVJneWc9PSIsInZhbHVlIjoiRHNvRjZVK0dDT3kyU01lV2xQN3JFb0RWNTA2TkdFTnMrOGlyaUJ5eE9VYjg2Y1pjdVcrR3pSZjJlcHRzRVNjZllGRC9zeHhwQWtnclA1UXFITU1BaFl2VTVFWVY2SjJ2QXNnVUhQT1ZqV0czMy9TaFhkKytTUFpwc1VwQm16ekciLCJtYWMiOiJjNWMyMjkzYWE5MWQ5NGE0NWZiYTE2M2FhNzJhZGY2ZGUzNTc5NDEyMDgyOGU3NjQwODYzNmMyYWQ1NDU2OTkyIiwidGFnIjoiIn0%3D\",\n",
        "    \"bachometro_hermosillo_session\":\"eyJpdiI6IlZzalhhbEJ5ZTY2RWFQRjVnUmx4N0E9PSIsInZhbHVlIjoiNy9EcUVhMXRYYUs0NmdZS0F0Rzl0amxFK2p3RlVaWm81b2l1blNINXJWYzdaLytaVzNibTRBcy9IWE10NjVwTW5hV1lJZzJPVjlRdDcxOVpXdmFad1Z2S2VJcEhDMUhlcjQ0bEZmS255LzI2Ujc0bFNoS3VyVGhaSDFOeUxjbXgiLCJtYWMiOiI2YTZiZDgzOWFkYzU0Njc2MDg4NmVjNWJiMmJjY2MxMDc3NWQwZTFlYWU5NGVkNjA1MzI3NmE5OGE4ZDgxZGFkIiwidGFnIjoiIn0%3D\"\n",
        "}\n",
        "\n",
        "\"\"\"\n",
        "\n",
        "# Ignorar esta celda por el momento. Se deja info en caso de necesitarse despues para solicitudes mas especificas a la API."
      ]
    },
    {
      "cell_type": "code",
      "execution_count": 7,
      "metadata": {
        "id": "Vb37HqUuWisl"
      },
      "outputs": [],
      "source": [
        "response = requests.get(url) # Enviamos una solicitud HTTP tipo GET hacia el API endpoint\n",
        "response_list = list(response.json()) # El resultado viene contenido entre corchetes, lo extraemos con el metodo JSON y transformamos en lista de Python\n",
        "report_qty = len(response_list) # Contamos la cantidad de elementos (reportes) que la lista contiene"
      ]
    },
    {
      "cell_type": "code",
      "execution_count": 8,
      "metadata": {
        "colab": {
          "base_uri": "https://localhost:8080/"
        },
        "id": "0UtQm6DCWkVP",
        "outputId": "52605ecd-b878-4ba4-ddc0-db8d0ba24928"
      },
      "outputs": [
        {
          "name": "stdout",
          "output_type": "stream",
          "text": [
            "Request returned with code 200: OK\n",
            "The report list response returned by the API endpoint contains 18079 entries.\n",
            "Here is the first report's data for demonstration: {'latitude': '29.09416060', 'longitude': '-110.96947080', 'date': '2021-10-18', 'neighborhoods': [551], 'material': 1, 'description': 'Hay un bache en la calle, y los carros se golpean y puede ocasionar un accidente, por favor quiero que lo arreglen.', 'id': 1}\n"
          ]
        }
      ],
      "source": [
        "print(f\"Request returned with code {response.status_code}: {response.reason}\")\n",
        "print(f\"The report list response returned by the API endpoint contains {report_qty} entries.\")\n",
        "print(f\"Here is the first report's data for demonstration: {response_list[0]}\")\n",
        "\n",
        "# TODO: El siguiente paso logico es transformar este listado de reportes en una estructura de datos mas adecuada (DataFrame)\n",
        "# Algo interesante es que el mayor numero de ID de reporte supera a la cantidad de reportes, lo que indica que talvez algunos reportes han sido descartados"
      ]
    },
    {
      "cell_type": "code",
      "execution_count": 9,
      "metadata": {},
      "outputs": [
        {
          "data": {
            "text/html": [
              "<div>\n",
              "<style scoped>\n",
              "    .dataframe tbody tr th:only-of-type {\n",
              "        vertical-align: middle;\n",
              "    }\n",
              "\n",
              "    .dataframe tbody tr th {\n",
              "        vertical-align: top;\n",
              "    }\n",
              "\n",
              "    .dataframe thead th {\n",
              "        text-align: right;\n",
              "    }\n",
              "</style>\n",
              "<table border=\"1\" class=\"dataframe\">\n",
              "  <thead>\n",
              "    <tr style=\"text-align: right;\">\n",
              "      <th></th>\n",
              "      <th>latitude</th>\n",
              "      <th>longitude</th>\n",
              "      <th>date</th>\n",
              "      <th>neighborhoods</th>\n",
              "      <th>material</th>\n",
              "      <th>description</th>\n",
              "      <th>id</th>\n",
              "    </tr>\n",
              "  </thead>\n",
              "  <tbody>\n",
              "    <tr>\n",
              "      <th>0</th>\n",
              "      <td>29.09416060</td>\n",
              "      <td>-110.96947080</td>\n",
              "      <td>2021-10-18</td>\n",
              "      <td>[551]</td>\n",
              "      <td>1</td>\n",
              "      <td>Hay un bache en la calle, y los carros se golp...</td>\n",
              "      <td>1</td>\n",
              "    </tr>\n",
              "    <tr>\n",
              "      <th>1</th>\n",
              "      <td>29.12406030</td>\n",
              "      <td>-110.97131830</td>\n",
              "      <td>2021-10-19</td>\n",
              "      <td>[601]</td>\n",
              "      <td>1</td>\n",
              "      <td>Buen dia! Para reportar pavimento dañado, bach...</td>\n",
              "      <td>4</td>\n",
              "    </tr>\n",
              "    <tr>\n",
              "      <th>2</th>\n",
              "      <td>29.12398540</td>\n",
              "      <td>-110.97128560</td>\n",
              "      <td>2021-10-19</td>\n",
              "      <td>[601]</td>\n",
              "      <td>1</td>\n",
              "      <td>Buen dia! Para reportar pavimento dañado, bach...</td>\n",
              "      <td>5</td>\n",
              "    </tr>\n",
              "    <tr>\n",
              "      <th>3</th>\n",
              "      <td>29.12877657</td>\n",
              "      <td>-110.95392611</td>\n",
              "      <td>2021-10-21</td>\n",
              "      <td>[49]</td>\n",
              "      <td>1</td>\n",
              "      <td>toda la calle desde el blvd Morelos tiene vari...</td>\n",
              "      <td>6</td>\n",
              "    </tr>\n",
              "    <tr>\n",
              "      <th>4</th>\n",
              "      <td>29.08380860</td>\n",
              "      <td>-111.04210120</td>\n",
              "      <td>2021-10-04</td>\n",
              "      <td>[74]</td>\n",
              "      <td>1</td>\n",
              "      <td>C. SOLICITA BACHEO ASEGURA REPORTANTE QUE ES P...</td>\n",
              "      <td>7</td>\n",
              "    </tr>\n",
              "    <tr>\n",
              "      <th>...</th>\n",
              "      <td>...</td>\n",
              "      <td>...</td>\n",
              "      <td>...</td>\n",
              "      <td>...</td>\n",
              "      <td>...</td>\n",
              "      <td>...</td>\n",
              "      <td>...</td>\n",
              "    </tr>\n",
              "    <tr>\n",
              "      <th>18074</th>\n",
              "      <td>29.14390615</td>\n",
              "      <td>-110.99682670</td>\n",
              "      <td>2024-10-03</td>\n",
              "      <td>[]</td>\n",
              "      <td>1</td>\n",
              "      <td>Bache que cubre el cartil de baja circulación</td>\n",
              "      <td>21255</td>\n",
              "    </tr>\n",
              "    <tr>\n",
              "      <th>18075</th>\n",
              "      <td>29.13198870</td>\n",
              "      <td>-111.01812100</td>\n",
              "      <td>2024-10-03</td>\n",
              "      <td>[]</td>\n",
              "      <td>1</td>\n",
              "      <td>-Baches en Lázaro Cárdenas y Quiroga, El Chapa...</td>\n",
              "      <td>21256</td>\n",
              "    </tr>\n",
              "    <tr>\n",
              "      <th>18076</th>\n",
              "      <td>29.11248129</td>\n",
              "      <td>-110.95084827</td>\n",
              "      <td>2024-10-03</td>\n",
              "      <td>[]</td>\n",
              "      <td>1</td>\n",
              "      <td>bache gigante</td>\n",
              "      <td>21257</td>\n",
              "    </tr>\n",
              "    <tr>\n",
              "      <th>18077</th>\n",
              "      <td>29.12571102</td>\n",
              "      <td>-110.99502124</td>\n",
              "      <td>2024-10-03</td>\n",
              "      <td>[]</td>\n",
              "      <td>1</td>\n",
              "      <td>bache muy grande de dos carriles, alenta tráfi...</td>\n",
              "      <td>21258</td>\n",
              "    </tr>\n",
              "    <tr>\n",
              "      <th>18078</th>\n",
              "      <td>28.83772510</td>\n",
              "      <td>-111.96231290</td>\n",
              "      <td>2024-10-03</td>\n",
              "      <td>[988]</td>\n",
              "      <td>1</td>\n",
              "      <td>Bacheo en Blvd. Mar De Cortez entre Napoles y ...</td>\n",
              "      <td>21259</td>\n",
              "    </tr>\n",
              "  </tbody>\n",
              "</table>\n",
              "<p>18079 rows × 7 columns</p>\n",
              "</div>"
            ],
            "text/plain": [
              "          latitude      longitude        date neighborhoods  material  \\\n",
              "0      29.09416060  -110.96947080  2021-10-18         [551]         1   \n",
              "1      29.12406030  -110.97131830  2021-10-19         [601]         1   \n",
              "2      29.12398540  -110.97128560  2021-10-19         [601]         1   \n",
              "3      29.12877657  -110.95392611  2021-10-21          [49]         1   \n",
              "4      29.08380860  -111.04210120  2021-10-04          [74]         1   \n",
              "...            ...            ...         ...           ...       ...   \n",
              "18074  29.14390615  -110.99682670  2024-10-03            []         1   \n",
              "18075  29.13198870  -111.01812100  2024-10-03            []         1   \n",
              "18076  29.11248129  -110.95084827  2024-10-03            []         1   \n",
              "18077  29.12571102  -110.99502124  2024-10-03            []         1   \n",
              "18078  28.83772510  -111.96231290  2024-10-03         [988]         1   \n",
              "\n",
              "                                             description     id  \n",
              "0      Hay un bache en la calle, y los carros se golp...      1  \n",
              "1      Buen dia! Para reportar pavimento dañado, bach...      4  \n",
              "2      Buen dia! Para reportar pavimento dañado, bach...      5  \n",
              "3      toda la calle desde el blvd Morelos tiene vari...      6  \n",
              "4      C. SOLICITA BACHEO ASEGURA REPORTANTE QUE ES P...      7  \n",
              "...                                                  ...    ...  \n",
              "18074     Bache que cubre el cartil de baja circulación   21255  \n",
              "18075  -Baches en Lázaro Cárdenas y Quiroga, El Chapa...  21256  \n",
              "18076                                     bache gigante   21257  \n",
              "18077  bache muy grande de dos carriles, alenta tráfi...  21258  \n",
              "18078  Bacheo en Blvd. Mar De Cortez entre Napoles y ...  21259  \n",
              "\n",
              "[18079 rows x 7 columns]"
            ]
          },
          "execution_count": 9,
          "metadata": {},
          "output_type": "execute_result"
        }
      ],
      "source": [
        "df = pd.DataFrame(response_list)\n",
        "df"
      ]
    }
  ],
  "metadata": {
    "colab": {
      "provenance": []
    },
    "kernelspec": {
      "display_name": "venv",
      "language": "python",
      "name": "python3"
    },
    "language_info": {
      "codemirror_mode": {
        "name": "ipython",
        "version": 3
      },
      "file_extension": ".py",
      "mimetype": "text/x-python",
      "name": "python",
      "nbconvert_exporter": "python",
      "pygments_lexer": "ipython3",
      "version": "3.12.3"
    }
  },
  "nbformat": 4,
  "nbformat_minor": 0
}
