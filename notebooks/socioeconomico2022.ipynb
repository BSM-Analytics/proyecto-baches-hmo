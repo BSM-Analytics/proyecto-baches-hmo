{
 "cells": [
  {
   "cell_type": "code",
   "execution_count": 10,
   "metadata": {},
   "outputs": [],
   "source": [
    "import requests\n",
    "import os\n",
    "import shutil\n",
    "import pandas as pd\n",
    "import zipfile"
   ]
  },
  {
   "cell_type": "code",
   "execution_count": 11,
   "metadata": {},
   "outputs": [],
   "source": [
    "directorio = os.path.dirname(os.getcwd())\n",
    "url = 'https://www.coneval.org.mx/Medicion/MP/Documents/MMP_2022/Programas_calculo/Python_MMP_2022.zip'\n",
    "datos = '/data/raw'\n",
    "\n",
    "if not os.path.exists(directorio + '/data/raw/socioeconomico2022.zip'):\n",
    "    if not os.path.exists(directorio + '/data/raw'):\n",
    "        if not os.path.exists(directorio + '/data'):\n",
    "            os.makedirs(directorio + '/data')\n",
    "        os.makedirs(directorio + '/data/raw')\n",
    "    r = requests.get(url, allow_redirects=True) \n",
    "    open(directorio + '/data/raw/socioeconomico2022.zip', 'wb').write(r.content)\n",
    "\n",
    "if os.path.exists(directorio + '/data/raw/socioeconomico2022.zip'):\n",
    "    with zipfile.ZipFile(directorio + '/data/raw/socioeconomico2022.zip') as zip_ref:\n",
    "        zip_ref.extractall(directorio + datos)\n",
    "\n",
    "os.remove(directorio + datos + '/socioeconomico2022.zip')\n",
    "shutil.rmtree(directorio + datos + '/Bases')"
   ]
  }
 ],
 "metadata": {
  "kernelspec": {
   "display_name": "venv",
   "language": "python",
   "name": "python3"
  },
  "language_info": {
   "codemirror_mode": {
    "name": "ipython",
    "version": 3
   },
   "file_extension": ".py",
   "mimetype": "text/x-python",
   "name": "python",
   "nbconvert_exporter": "python",
   "pygments_lexer": "ipython3",
   "version": "3.12.5"
  }
 },
 "nbformat": 4,
 "nbformat_minor": 2
}
