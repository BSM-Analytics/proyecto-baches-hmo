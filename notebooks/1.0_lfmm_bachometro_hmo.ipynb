{
  "cells": [
    {
      "cell_type": "code",
      "execution_count": 1,
      "metadata": {
        "id": "q8ClZJVsWRd5"
      },
      "outputs": [],
      "source": [
        "import requests\n",
        "import pandas as pd"
      ]
    },
    {
      "cell_type": "markdown",
      "metadata": {},
      "source": [
        "### Definimos el URL hacia donde haremos la solicitud a la API\n",
        "---"
      ]
    },
    {
      "cell_type": "code",
      "execution_count": 2,
      "metadata": {
        "id": "llyTK_xUWYi1"
      },
      "outputs": [],
      "source": [
        "url = \"https://bachometro.hermosillo.gob.mx/mapa/ajax\" # Endpoint encontrado monitoreando el trafico en el sitio web del Bachometro Hermosillo"
      ]
    },
    {
      "cell_type": "markdown",
      "metadata": {},
      "source": [
        "### Efectuamos la solicitud hacia la API\n",
        "---"
      ]
    },
    {
      "cell_type": "code",
      "execution_count": 3,
      "metadata": {
        "id": "Vb37HqUuWisl"
      },
      "outputs": [],
      "source": [
        "response = requests.get(url) # Enviamos una solicitud HTTP tipo GET hacia el API endpoint\n",
        "response_list = list(response.json()) # El resultado viene contenido entre corchetes, lo extraemos con el metodo JSON y transformamos en lista de Python\n",
        "report_qty = len(response_list) # Contamos la cantidad de elementos (reportes) que la lista contiene"
      ]
    },
    {
      "cell_type": "markdown",
      "metadata": {},
      "source": [
        "### Obtenemos un poco de informacion con la respuesta obtenida\n",
        "---"
      ]
    },
    {
      "cell_type": "code",
      "execution_count": 4,
      "metadata": {
        "colab": {
          "base_uri": "https://localhost:8080/"
        },
        "id": "0UtQm6DCWkVP",
        "outputId": "52605ecd-b878-4ba4-ddc0-db8d0ba24928"
      },
      "outputs": [
        {
          "name": "stdout",
          "output_type": "stream",
          "text": [
            "Request returned with code 200: OK\n",
            "The report list response returned by the API endpoint contains 18215 entries.\n",
            "Here is the first report's data for demonstration: {'latitude': '29.09416060', 'longitude': '-110.96947080', 'date': '2021-10-18', 'neighborhoods': [551], 'material': 1, 'description': 'Hay un bache en la calle, y los carros se golpean y puede ocasionar un accidente, por favor quiero que lo arreglen.', 'id': 1}\n"
          ]
        }
      ],
      "source": [
        "print(f\"Request returned with code {response.status_code}: {response.reason}\")\n",
        "print(f\"The report list response returned by the API endpoint contains {report_qty} entries.\")\n",
        "print(f\"Here is the first report's data for demonstration: {response_list[0]}\")\n",
        "\n",
        "# TODO: El siguiente paso logico es transformar este listado de reportes en una estructura de datos mas adecuada (DataFrame)\n",
        "# Algo interesante es que el mayor numero de ID de reporte supera a la cantidad de reportes, lo que indica que talvez algunos reportes han sido descartados"
      ]
    },
    {
      "cell_type": "markdown",
      "metadata": {},
      "source": [
        "### Depositamos los datos entregados por la API en un DataFrame de pandas\n",
        "---"
      ]
    },
    {
      "cell_type": "code",
      "execution_count": 5,
      "metadata": {},
      "outputs": [
        {
          "data": {
            "text/html": [
              "<div>\n",
              "<style scoped>\n",
              "    .dataframe tbody tr th:only-of-type {\n",
              "        vertical-align: middle;\n",
              "    }\n",
              "\n",
              "    .dataframe tbody tr th {\n",
              "        vertical-align: top;\n",
              "    }\n",
              "\n",
              "    .dataframe thead th {\n",
              "        text-align: right;\n",
              "    }\n",
              "</style>\n",
              "<table border=\"1\" class=\"dataframe\">\n",
              "  <thead>\n",
              "    <tr style=\"text-align: right;\">\n",
              "      <th></th>\n",
              "      <th>latitude</th>\n",
              "      <th>longitude</th>\n",
              "      <th>date</th>\n",
              "      <th>neighborhoods</th>\n",
              "      <th>material</th>\n",
              "      <th>description</th>\n",
              "      <th>id</th>\n",
              "    </tr>\n",
              "  </thead>\n",
              "  <tbody>\n",
              "    <tr>\n",
              "      <th>0</th>\n",
              "      <td>29.09416060</td>\n",
              "      <td>-110.96947080</td>\n",
              "      <td>2021-10-18</td>\n",
              "      <td>[551]</td>\n",
              "      <td>1</td>\n",
              "      <td>Hay un bache en la calle, y los carros se golp...</td>\n",
              "      <td>1</td>\n",
              "    </tr>\n",
              "    <tr>\n",
              "      <th>1</th>\n",
              "      <td>29.12406030</td>\n",
              "      <td>-110.97131830</td>\n",
              "      <td>2021-10-19</td>\n",
              "      <td>[601]</td>\n",
              "      <td>1</td>\n",
              "      <td>Buen dia! Para reportar pavimento dañado, bach...</td>\n",
              "      <td>4</td>\n",
              "    </tr>\n",
              "    <tr>\n",
              "      <th>2</th>\n",
              "      <td>29.12398540</td>\n",
              "      <td>-110.97128560</td>\n",
              "      <td>2021-10-19</td>\n",
              "      <td>[601]</td>\n",
              "      <td>1</td>\n",
              "      <td>Buen dia! Para reportar pavimento dañado, bach...</td>\n",
              "      <td>5</td>\n",
              "    </tr>\n",
              "    <tr>\n",
              "      <th>3</th>\n",
              "      <td>29.12877657</td>\n",
              "      <td>-110.95392611</td>\n",
              "      <td>2021-10-21</td>\n",
              "      <td>[49]</td>\n",
              "      <td>1</td>\n",
              "      <td>toda la calle desde el blvd Morelos tiene vari...</td>\n",
              "      <td>6</td>\n",
              "    </tr>\n",
              "    <tr>\n",
              "      <th>4</th>\n",
              "      <td>29.08380860</td>\n",
              "      <td>-111.04210120</td>\n",
              "      <td>2021-10-04</td>\n",
              "      <td>[74]</td>\n",
              "      <td>1</td>\n",
              "      <td>C. SOLICITA BACHEO ASEGURA REPORTANTE QUE ES P...</td>\n",
              "      <td>7</td>\n",
              "    </tr>\n",
              "    <tr>\n",
              "      <th>...</th>\n",
              "      <td>...</td>\n",
              "      <td>...</td>\n",
              "      <td>...</td>\n",
              "      <td>...</td>\n",
              "      <td>...</td>\n",
              "      <td>...</td>\n",
              "      <td>...</td>\n",
              "    </tr>\n",
              "    <tr>\n",
              "      <th>18210</th>\n",
              "      <td>29.15197065</td>\n",
              "      <td>-110.97144164</td>\n",
              "      <td>2024-10-11</td>\n",
              "      <td>[532]</td>\n",
              "      <td>1</td>\n",
              "      <td>Bacheo en Av Ruiseñor #13 Y #19  entre Gral Pi...</td>\n",
              "      <td>21518</td>\n",
              "    </tr>\n",
              "    <tr>\n",
              "      <th>18211</th>\n",
              "      <td>29.11412380</td>\n",
              "      <td>-111.00456550</td>\n",
              "      <td>2024-10-11</td>\n",
              "      <td>[379]</td>\n",
              "      <td>1</td>\n",
              "      <td>Bacheo en Calle Merida entre Panama y Republic...</td>\n",
              "      <td>21519</td>\n",
              "    </tr>\n",
              "    <tr>\n",
              "      <th>18212</th>\n",
              "      <td>29.15196770</td>\n",
              "      <td>-110.97158510</td>\n",
              "      <td>2024-10-11</td>\n",
              "      <td>[532]</td>\n",
              "      <td>1</td>\n",
              "      <td>Bacheo en Ruiseñor entre Cisnes y General Piña</td>\n",
              "      <td>21520</td>\n",
              "    </tr>\n",
              "    <tr>\n",
              "      <th>18213</th>\n",
              "      <td>29.11451640</td>\n",
              "      <td>-111.00340910</td>\n",
              "      <td>2024-10-11</td>\n",
              "      <td>[379]</td>\n",
              "      <td>1</td>\n",
              "      <td>Bacheo en Villa Hermosa entre Rep. De Honduras...</td>\n",
              "      <td>21521</td>\n",
              "    </tr>\n",
              "    <tr>\n",
              "      <th>18214</th>\n",
              "      <td>29.04842160</td>\n",
              "      <td>-110.83781680</td>\n",
              "      <td>2024-10-11</td>\n",
              "      <td>[988]</td>\n",
              "      <td>1</td>\n",
              "      <td>Bacheo en Carretera Meza Del Seri entre Carret...</td>\n",
              "      <td>21522</td>\n",
              "    </tr>\n",
              "  </tbody>\n",
              "</table>\n",
              "<p>18215 rows × 7 columns</p>\n",
              "</div>"
            ],
            "text/plain": [
              "          latitude      longitude        date neighborhoods  material  \\\n",
              "0      29.09416060  -110.96947080  2021-10-18         [551]         1   \n",
              "1      29.12406030  -110.97131830  2021-10-19         [601]         1   \n",
              "2      29.12398540  -110.97128560  2021-10-19         [601]         1   \n",
              "3      29.12877657  -110.95392611  2021-10-21          [49]         1   \n",
              "4      29.08380860  -111.04210120  2021-10-04          [74]         1   \n",
              "...            ...            ...         ...           ...       ...   \n",
              "18210  29.15197065  -110.97144164  2024-10-11         [532]         1   \n",
              "18211  29.11412380  -111.00456550  2024-10-11         [379]         1   \n",
              "18212  29.15196770  -110.97158510  2024-10-11         [532]         1   \n",
              "18213  29.11451640  -111.00340910  2024-10-11         [379]         1   \n",
              "18214  29.04842160  -110.83781680  2024-10-11         [988]         1   \n",
              "\n",
              "                                             description     id  \n",
              "0      Hay un bache en la calle, y los carros se golp...      1  \n",
              "1      Buen dia! Para reportar pavimento dañado, bach...      4  \n",
              "2      Buen dia! Para reportar pavimento dañado, bach...      5  \n",
              "3      toda la calle desde el blvd Morelos tiene vari...      6  \n",
              "4      C. SOLICITA BACHEO ASEGURA REPORTANTE QUE ES P...      7  \n",
              "...                                                  ...    ...  \n",
              "18210  Bacheo en Av Ruiseñor #13 Y #19  entre Gral Pi...  21518  \n",
              "18211  Bacheo en Calle Merida entre Panama y Republic...  21519  \n",
              "18212     Bacheo en Ruiseñor entre Cisnes y General Piña  21520  \n",
              "18213  Bacheo en Villa Hermosa entre Rep. De Honduras...  21521  \n",
              "18214  Bacheo en Carretera Meza Del Seri entre Carret...  21522  \n",
              "\n",
              "[18215 rows x 7 columns]"
            ]
          },
          "execution_count": 5,
          "metadata": {},
          "output_type": "execute_result"
        }
      ],
      "source": [
        "df = pd.DataFrame(response_list)\n",
        "df"
      ]
    }
  ],
  "metadata": {
    "colab": {
      "provenance": []
    },
    "kernelspec": {
      "display_name": "venv",
      "language": "python",
      "name": "python3"
    },
    "language_info": {
      "codemirror_mode": {
        "name": "ipython",
        "version": 3
      },
      "file_extension": ".py",
      "mimetype": "text/x-python",
      "name": "python",
      "nbconvert_exporter": "python",
      "pygments_lexer": "ipython3",
      "version": "3.12.7"
    }
  },
  "nbformat": 4,
  "nbformat_minor": 0
}
