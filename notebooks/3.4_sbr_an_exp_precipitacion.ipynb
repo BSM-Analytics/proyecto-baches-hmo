{
 "cells": [
  {
   "cell_type": "code",
   "execution_count": 49,
   "metadata": {
    "id": "v5tiAAnuU5Ow"
   },
   "outputs": [],
   "source": [
    "import pandas as pd\n",
    "import matplotlib.pyplot as plt\n",
    "import seaborn as sns\n",
    "import requests\n",
    "import os"
   ]
  },
  {
   "cell_type": "markdown",
   "metadata": {},
   "source": [
    "# Descargar datos de precipitación Hermosillo 2021-2024"
   ]
  },
  {
   "cell_type": "code",
   "execution_count": 50,
   "metadata": {},
   "outputs": [
    {
     "data": {
      "text/html": [
       "<div>\n",
       "<style scoped>\n",
       "    .dataframe tbody tr th:only-of-type {\n",
       "        vertical-align: middle;\n",
       "    }\n",
       "\n",
       "    .dataframe tbody tr th {\n",
       "        vertical-align: top;\n",
       "    }\n",
       "\n",
       "    .dataframe thead th {\n",
       "        text-align: right;\n",
       "    }\n",
       "</style>\n",
       "<table border=\"1\" class=\"dataframe\">\n",
       "  <thead>\n",
       "    <tr style=\"text-align: right;\">\n",
       "      <th></th>\n",
       "      <th>latitude</th>\n",
       "      <th>longitude</th>\n",
       "      <th>elevation</th>\n",
       "      <th>utc_offset_seconds</th>\n",
       "      <th>timezone</th>\n",
       "      <th>timezone_abbreviation</th>\n",
       "    </tr>\n",
       "  </thead>\n",
       "  <tbody>\n",
       "    <tr>\n",
       "      <th>0</th>\n",
       "      <td>29.06854</td>\n",
       "      <td>-110.975876</td>\n",
       "      <td>214.0</td>\n",
       "      <td>-25200.0</td>\n",
       "      <td>America/Denver</td>\n",
       "      <td>MST</td>\n",
       "    </tr>\n",
       "    <tr>\n",
       "      <th>1</th>\n",
       "      <td>time</td>\n",
       "      <td>precipitation_sum (mm)</td>\n",
       "      <td>NaN</td>\n",
       "      <td>NaN</td>\n",
       "      <td>NaN</td>\n",
       "      <td>NaN</td>\n",
       "    </tr>\n",
       "    <tr>\n",
       "      <th>2</th>\n",
       "      <td>2021-01-01</td>\n",
       "      <td>4.00</td>\n",
       "      <td>NaN</td>\n",
       "      <td>NaN</td>\n",
       "      <td>NaN</td>\n",
       "      <td>NaN</td>\n",
       "    </tr>\n",
       "    <tr>\n",
       "      <th>3</th>\n",
       "      <td>2021-01-02</td>\n",
       "      <td>0.00</td>\n",
       "      <td>NaN</td>\n",
       "      <td>NaN</td>\n",
       "      <td>NaN</td>\n",
       "      <td>NaN</td>\n",
       "    </tr>\n",
       "    <tr>\n",
       "      <th>4</th>\n",
       "      <td>2021-01-03</td>\n",
       "      <td>0.00</td>\n",
       "      <td>NaN</td>\n",
       "      <td>NaN</td>\n",
       "      <td>NaN</td>\n",
       "      <td>NaN</td>\n",
       "    </tr>\n",
       "    <tr>\n",
       "      <th>...</th>\n",
       "      <td>...</td>\n",
       "      <td>...</td>\n",
       "      <td>...</td>\n",
       "      <td>...</td>\n",
       "      <td>...</td>\n",
       "      <td>...</td>\n",
       "    </tr>\n",
       "    <tr>\n",
       "      <th>1407</th>\n",
       "      <td>2024-11-06</td>\n",
       "      <td>0.00</td>\n",
       "      <td>NaN</td>\n",
       "      <td>NaN</td>\n",
       "      <td>NaN</td>\n",
       "      <td>NaN</td>\n",
       "    </tr>\n",
       "    <tr>\n",
       "      <th>1408</th>\n",
       "      <td>2024-11-07</td>\n",
       "      <td>0.00</td>\n",
       "      <td>NaN</td>\n",
       "      <td>NaN</td>\n",
       "      <td>NaN</td>\n",
       "      <td>NaN</td>\n",
       "    </tr>\n",
       "    <tr>\n",
       "      <th>1409</th>\n",
       "      <td>2024-11-08</td>\n",
       "      <td>0.00</td>\n",
       "      <td>NaN</td>\n",
       "      <td>NaN</td>\n",
       "      <td>NaN</td>\n",
       "      <td>NaN</td>\n",
       "    </tr>\n",
       "    <tr>\n",
       "      <th>1410</th>\n",
       "      <td>2024-11-09</td>\n",
       "      <td>0.00</td>\n",
       "      <td>NaN</td>\n",
       "      <td>NaN</td>\n",
       "      <td>NaN</td>\n",
       "      <td>NaN</td>\n",
       "    </tr>\n",
       "    <tr>\n",
       "      <th>1411</th>\n",
       "      <td>2024-11-10</td>\n",
       "      <td>NaN</td>\n",
       "      <td>NaN</td>\n",
       "      <td>NaN</td>\n",
       "      <td>NaN</td>\n",
       "      <td>NaN</td>\n",
       "    </tr>\n",
       "  </tbody>\n",
       "</table>\n",
       "<p>1412 rows × 6 columns</p>\n",
       "</div>"
      ],
      "text/plain": [
       "        latitude               longitude  elevation  utc_offset_seconds  \\\n",
       "0       29.06854             -110.975876      214.0            -25200.0   \n",
       "1           time  precipitation_sum (mm)        NaN                 NaN   \n",
       "2     2021-01-01                    4.00        NaN                 NaN   \n",
       "3     2021-01-02                    0.00        NaN                 NaN   \n",
       "4     2021-01-03                    0.00        NaN                 NaN   \n",
       "...          ...                     ...        ...                 ...   \n",
       "1407  2024-11-06                    0.00        NaN                 NaN   \n",
       "1408  2024-11-07                    0.00        NaN                 NaN   \n",
       "1409  2024-11-08                    0.00        NaN                 NaN   \n",
       "1410  2024-11-09                    0.00        NaN                 NaN   \n",
       "1411  2024-11-10                     NaN        NaN                 NaN   \n",
       "\n",
       "            timezone timezone_abbreviation  \n",
       "0     America/Denver                   MST  \n",
       "1                NaN                   NaN  \n",
       "2                NaN                   NaN  \n",
       "3                NaN                   NaN  \n",
       "4                NaN                   NaN  \n",
       "...              ...                   ...  \n",
       "1407             NaN                   NaN  \n",
       "1408             NaN                   NaN  \n",
       "1409             NaN                   NaN  \n",
       "1410             NaN                   NaN  \n",
       "1411             NaN                   NaN  \n",
       "\n",
       "[1412 rows x 6 columns]"
      ]
     },
     "execution_count": 50,
     "metadata": {},
     "output_type": "execute_result"
    }
   ],
   "source": [
    "# url de Historical Weather API con las coordenadas de hmo y los rangos de fecha buscados\n",
    "url = 'https://archive-api.open-meteo.com/v1/archive?latitude=29.1026&longitude=-110.9773&start_date=2021-01-01&end_date=2024-11-10&daily=precipitation_sum&timezone=America%2FDenver&format=csv'\n",
    "\n",
    "ruta_descarga = os.path.dirname(os.getcwd()) + '/data/raw/precipitacion'\n",
    "\n",
    "# Realizar la descarga y guardar el archivo\n",
    "response = requests.get(url)\n",
    "with open(ruta_descarga, 'wb') as f:\n",
    "    f.write(response.content)\n",
    "\n",
    "# Cargar el archivo CSV local\n",
    "df_lluvia_hmo = pd.read_csv(ruta_descarga)\n",
    "\n",
    "df_lluvia_hmo"
   ]
  },
  {
   "cell_type": "code",
   "execution_count": 51,
   "metadata": {
    "colab": {
     "base_uri": "https://localhost:8080/"
    },
    "id": "0bWQEVSWVOKC",
    "outputId": "dfb5dc02-6a54-471c-90fc-2c160981de05"
   },
   "outputs": [
    {
     "name": "stdout",
     "output_type": "stream",
     "text": [
      "<class 'pandas.core.frame.DataFrame'>\n",
      "RangeIndex: 1412 entries, 0 to 1411\n",
      "Data columns (total 6 columns):\n",
      " #   Column                 Non-Null Count  Dtype  \n",
      "---  ------                 --------------  -----  \n",
      " 0   latitude               1412 non-null   object \n",
      " 1   longitude              1411 non-null   object \n",
      " 2   elevation              1 non-null      float64\n",
      " 3   utc_offset_seconds     1 non-null      float64\n",
      " 4   timezone               1 non-null      object \n",
      " 5   timezone_abbreviation  1 non-null      object \n",
      "dtypes: float64(2), object(4)\n",
      "memory usage: 66.3+ KB\n"
     ]
    }
   ],
   "source": [
    "df_lluvia_hmo.info()"
   ]
  },
  {
   "cell_type": "code",
   "execution_count": 52,
   "metadata": {
    "colab": {
     "base_uri": "https://localhost:8080/",
     "height": 423
    },
    "id": "SBtOXhX1VlBC",
    "outputId": "24ac3286-37df-42a6-f1fe-c04a3508d815"
   },
   "outputs": [
    {
     "data": {
      "text/html": [
       "<div>\n",
       "<style scoped>\n",
       "    .dataframe tbody tr th:only-of-type {\n",
       "        vertical-align: middle;\n",
       "    }\n",
       "\n",
       "    .dataframe tbody tr th {\n",
       "        vertical-align: top;\n",
       "    }\n",
       "\n",
       "    .dataframe thead th {\n",
       "        text-align: right;\n",
       "    }\n",
       "</style>\n",
       "<table border=\"1\" class=\"dataframe\">\n",
       "  <thead>\n",
       "    <tr style=\"text-align: right;\">\n",
       "      <th></th>\n",
       "      <th>time</th>\n",
       "      <th>precipitation_sum (mm)</th>\n",
       "    </tr>\n",
       "  </thead>\n",
       "  <tbody>\n",
       "    <tr>\n",
       "      <th>0</th>\n",
       "      <td>2021-01-01</td>\n",
       "      <td>4.0</td>\n",
       "    </tr>\n",
       "    <tr>\n",
       "      <th>1</th>\n",
       "      <td>2021-01-02</td>\n",
       "      <td>0.0</td>\n",
       "    </tr>\n",
       "    <tr>\n",
       "      <th>2</th>\n",
       "      <td>2021-01-03</td>\n",
       "      <td>0.0</td>\n",
       "    </tr>\n",
       "    <tr>\n",
       "      <th>3</th>\n",
       "      <td>2021-01-04</td>\n",
       "      <td>0.0</td>\n",
       "    </tr>\n",
       "    <tr>\n",
       "      <th>4</th>\n",
       "      <td>2021-01-05</td>\n",
       "      <td>0.0</td>\n",
       "    </tr>\n",
       "    <tr>\n",
       "      <th>...</th>\n",
       "      <td>...</td>\n",
       "      <td>...</td>\n",
       "    </tr>\n",
       "    <tr>\n",
       "      <th>1404</th>\n",
       "      <td>2024-11-05</td>\n",
       "      <td>0.0</td>\n",
       "    </tr>\n",
       "    <tr>\n",
       "      <th>1405</th>\n",
       "      <td>2024-11-06</td>\n",
       "      <td>0.0</td>\n",
       "    </tr>\n",
       "    <tr>\n",
       "      <th>1406</th>\n",
       "      <td>2024-11-07</td>\n",
       "      <td>0.0</td>\n",
       "    </tr>\n",
       "    <tr>\n",
       "      <th>1407</th>\n",
       "      <td>2024-11-08</td>\n",
       "      <td>0.0</td>\n",
       "    </tr>\n",
       "    <tr>\n",
       "      <th>1408</th>\n",
       "      <td>2024-11-09</td>\n",
       "      <td>0.0</td>\n",
       "    </tr>\n",
       "  </tbody>\n",
       "</table>\n",
       "<p>1409 rows × 2 columns</p>\n",
       "</div>"
      ],
      "text/plain": [
       "           time  precipitation_sum (mm)\n",
       "0    2021-01-01                     4.0\n",
       "1    2021-01-02                     0.0\n",
       "2    2021-01-03                     0.0\n",
       "3    2021-01-04                     0.0\n",
       "4    2021-01-05                     0.0\n",
       "...         ...                     ...\n",
       "1404 2024-11-05                     0.0\n",
       "1405 2024-11-06                     0.0\n",
       "1406 2024-11-07                     0.0\n",
       "1407 2024-11-08                     0.0\n",
       "1408 2024-11-09                     0.0\n",
       "\n",
       "[1409 rows x 2 columns]"
      ]
     },
     "execution_count": 52,
     "metadata": {},
     "output_type": "execute_result"
    }
   ],
   "source": [
    "# Quitamos las primeras dos filas inecesarias y reseteamos el indice\n",
    "df_lluvia_hmo.drop([0, 1], inplace=True)\n",
    "df_lluvia_hmo.reset_index(drop=True, inplace=True)\n",
    "\n",
    "# Quitamos columnas mal hechas debido a la estructura\n",
    "df_lluvia_hmo.drop(['elevation', 'utc_offset_seconds', 'timezone', 'timezone_abbreviation'], axis=1, inplace=True)\n",
    "# Renombramos adecuadamente las columnas que nos interesan\n",
    "df_lluvia_hmo.rename(columns={'latitude': 'time', 'longitude': 'precipitation_sum (mm)'}, inplace=True)\n",
    "# Quitamos filas con nulos\n",
    "df_lluvia_hmo.dropna(inplace=True)\n",
    "\n",
    "# Definimos correctamente los tipos de datos\n",
    "df_lluvia_hmo['time'] = pd.to_datetime(df_lluvia_hmo['time'])\n",
    "df_lluvia_hmo['precipitation_sum (mm)'] = df_lluvia_hmo['precipitation_sum (mm)'].astype(float)\n",
    "\n",
    "# Seleccionamos un rango de fechas\n",
    "df_lluvia_hmo[(df_lluvia_hmo['time'] >= '2021-09-01') & (df_lluvia_hmo['time'] <= '2024-11-09')].reset_index(drop=True, inplace=True)\n",
    "\n",
    "df_lluvia_hmo"
   ]
  },
  {
   "cell_type": "code",
   "execution_count": 53,
   "metadata": {
    "colab": {
     "base_uri": "https://localhost:8080/"
    },
    "id": "-_9VPMtWYrG_",
    "outputId": "96d6e424-aafa-42a9-ec40-a1f95addbb4c"
   },
   "outputs": [
    {
     "name": "stdout",
     "output_type": "stream",
     "text": [
      "<class 'pandas.core.frame.DataFrame'>\n",
      "Index: 1409 entries, 0 to 1408\n",
      "Data columns (total 2 columns):\n",
      " #   Column                  Non-Null Count  Dtype         \n",
      "---  ------                  --------------  -----         \n",
      " 0   time                    1409 non-null   datetime64[ns]\n",
      " 1   precipitation_sum (mm)  1409 non-null   float64       \n",
      "dtypes: datetime64[ns](1), float64(1)\n",
      "memory usage: 33.0 KB\n"
     ]
    }
   ],
   "source": [
    "df_lluvia_hmo.info()"
   ]
  },
  {
   "cell_type": "code",
   "execution_count": null,
   "metadata": {},
   "outputs": [],
   "source": []
  },
  {
   "cell_type": "code",
   "execution_count": 54,
   "metadata": {
    "colab": {
     "base_uri": "https://localhost:8080/",
     "height": 508
    },
    "id": "PSk7kIz1Xsrl",
    "outputId": "ce500b28-7800-412c-866d-8b05b53dce30"
   },
   "outputs": [
    {
     "data": {
      "image/png": "[encoded data removed]",
      "text/plain": [
       "<Figure size 1000x600 with 1 Axes>"
      ]
     },
     "metadata": {},
     "output_type": "display_data"
    }
   ],
   "source": [
    "plt.figure(figsize=(10, 6))\n",
    "sns.lineplot(x='time', y='precipitation_sum (mm)', data=df_lluvia_hmo)\n",
    "# Mostrar el gráfico\n",
    "plt.xticks(rotation=45)  # Rotar las etiquetas del eje x para mejor visualización\n",
    "plt.title('Serie Temporal de Ejemplo')\n",
    "plt.show()"
   ]
  }
 ],
 "metadata": {
  "colab": {
   "provenance": []
  },
  "kernelspec": {
   "display_name": "venv",
   "language": "python",
   "name": "python3"
  },
  "language_info": {
   "codemirror_mode": {
    "name": "ipython",
    "version": 3
   },
   "file_extension": ".py",
   "mimetype": "text/x-python",
   "name": "python",
   "nbconvert_exporter": "python",
   "pygments_lexer": "ipython3",
   "version": "3.12.3"
  }
 },
 "nbformat": 4,
 "nbformat_minor": 0
}
